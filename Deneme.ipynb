{
 "cells": [
  {
   "cell_type": "markdown",
   "metadata": {},
   "source": [
    "## CEE/MENA"
   ]
  },
  {
   "cell_type": "markdown",
   "metadata": {},
   "source": [
    "CEE/MENA bölgesinde dış ticaret kodlarına göre (her yıl değişen) türkiye neden geride kalıyor? RCA kullanılacak. 5 ya da 10 yıllık inceleme eldeki verilere göre. FDI raporlarını incele. 1 sunum ve 1 rapor oluşturulacak. Sunum 10 sayfa en az olucak bir sürü grafikle tepav tarzı. <a href=\"[URL](https://www.canva.com/design/DAGR24td3jA/yA-qVenwE1Tjy81Pwd3V2w/edit?utm_content=DAGR24td3jA&utm_campaign=designshare&utm_medium=link2&utm_source=sharebutton)\">Canva Proje Planım</a>"
   ]
  },
  {
   "cell_type": "code",
   "execution_count": 4,
   "metadata": {},
   "outputs": [],
   "source": [
    "countries = [\n",
    "    \"Algeria\", \"Bahrain\", \"Djibouti\", \"Egypt\", \"Iran\", \"Iraq\", \"Israel\", \"Jordan\",\n",
    "    \"Kuwait\", \"Lebanon\", \"Libya\", \"Morocco\", \"Oman\", \"Palestine\", \"Qatar\",\n",
    "    \"Saudi Arabia\", \"Somalia\", \"Sudan\", \"Syria\", \"Tunisia\", \"Turkey\", \n",
    "    \"United Arab Emirates (UAE)\", \"Yemen\", \"Albania\", \"Armenia\", \"Azerbaijan\", \"Belarus\", \n",
    "    \"Bosnia and Herzegovina\", \"Bulgaria\", \"Croatia\", \"Czech Republic\", \"Estonia\", \"Georgia\", \n",
    "    \"Kosovo\", \"Latvia\", \"Lithuania\", \"Moldova\", \"Montenegro\", \"North Macedonia\", \"Hungary\",\n",
    "    \"Poland\", \"Romania\", \"Russia\", \"Serbia\", \"Slovakia\", \"Slovenia\", \"Ukraine\"\n",
    "]"
   ]
  },
  {
   "cell_type": "code",
   "execution_count": 3,
   "metadata": {},
   "outputs": [
    {
     "data": {
      "text/plain": [
       "(47, 47)"
      ]
     },
     "execution_count": 3,
     "metadata": {},
     "output_type": "execute_result"
    }
   ],
   "source": [
    "len(set(countries)), len(countries)"
   ]
  }
 ],
 "metadata": {
  "kernelspec": {
   "display_name": "Python 3",
   "language": "python",
   "name": "python3"
  },
  "language_info": {
   "codemirror_mode": {
    "name": "ipython",
    "version": 3
   },
   "file_extension": ".py",
   "mimetype": "text/x-python",
   "name": "python",
   "nbconvert_exporter": "python",
   "pygments_lexer": "ipython3",
   "version": "3.11.9"
  }
 },
 "nbformat": 4,
 "nbformat_minor": 2
}
