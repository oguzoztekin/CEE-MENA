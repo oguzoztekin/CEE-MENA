{
 "cells": [
  {
   "cell_type": "markdown",
   "metadata": {},
   "source": [
    "## CEE/MENA"
   ]
  },
  {
   "cell_type": "markdown",
   "metadata": {},
   "source": [
    "CEE/MENA bölgesinde dış ticaret kodlarına göre (her yıl değişen) türkiye neden geride kalıyor? RCA kullanılacak. 5 ya da 10 yıllık inceleme eldeki verilere göre. FDI raporlarını incele. 1 sunum ve 1 rapor oluşturulacak. Sunum 10 sayfa en az olucak bir sürü grafikle tepav tarzı. <a href=\"[URL](https://www.canva.com/design/DAGR24td3jA/yA-qVenwE1Tjy81Pwd3V2w/edit?utm_content=DAGR24td3jA&utm_campaign=designshare&utm_medium=link2&utm_source=sharebutton)\">Canva Proje Planım</a>"
   ]
  },
  {
   "cell_type": "code",
   "execution_count": 38,
   "metadata": {},
   "outputs": [],
   "source": [
    "# Defining countries which we will work\n",
    "countries_list = [\"Algeria\", \"Bahrain\", \"Djibouti\", \"Egypt\", \"Iran\", \"Iraq\", \"Israel\", \"Jordan\", \"Kuwait\", \"Lebanon\", \"Libya\", \"Morocco\", \"Oman\", \"Palestine\", \"Qatar\", \"Saudi Arabia\", \"Somalia\", \"Sudan\", \"Syria\", \"Tunisia\", \"Turkey\", \"United Arab Emirates (UAE)\", \"Yemen\", \"Albania\", \"Armenia\", \"Azerbaijan\", \"Belarus\", \"Bosnia and Herzegovina\", \"Bulgaria\", \"Croatia\", \"Czech Republic\", \"Estonia\", \"Georgia\", \"Kosovo\", \"Latvia\", \"Lithuania\", \"Moldova\", \"Montenegro\", \"North Macedonia\", \"Hungary\", \"Poland\", \"Romania\", \"Russia\", \"Serbia\", \"Slovakia\", \"Slovenia\", \"Ukraine\", \"Cyprus\", \"Malta\"]\n",
    "import pandas as pd\n",
    "countries = pd.read_excel(\"Ülkeler.xlsx\")\n",
    "\n",
    "c = countries\n",
    "eu_c = countries[countries[\"EU\"] == \"Member State\"]\n",
    "nato_c = countries[countries[\"NATO\"] == \"Member State\"]\n",
    "cis_c = countries[countries[\"CIS\"] == \"Member State\"]\n",
    "csto_c = countries[countries[\"CSTO\"] == \"Member State\"]"
   ]
  },
  {
   "cell_type": "markdown",
   "metadata": {},
   "source": [
    "https://www.canva.com/design/DAGR24td3jA/yA-qVenwE1Tjy81Pwd3V2w/edit\n",
    "https://docs.google.com/document/d/19vUv3VAu3Eohh5-aC-pJbEUcKbPXn6vbK7cYgZSqu78/edit"
   ]
  },
  {
   "cell_type": "markdown",
   "metadata": {},
   "source": [
    "Değişen nace2 kodlarının ayarı hs ile. Yüksek teknoloji ayırımı"
   ]
  },
  {
   "cell_type": "code",
   "execution_count": null,
   "metadata": {},
   "outputs": [],
   "source": [
    "# Ülkelerin Nüfusları Gdpleri kategorilere bağlı olarak eklenecekler kağıtta var gerekli mi sor\n",
    "\n"
   ]
  },
  {
   "cell_type": "code",
   "execution_count": 1,
   "metadata": {},
   "outputs": [],
   "source": [
    "# New products\n",
    "\n",
    "import pandas as pd\n",
    "\n",
    "df_2012 = pd.read_csv(r\"C:\\Users\\oguzo\\Desktop\\MENA\\CEE-MENA\\BACI\\BACI_HS12_V202401\\product_codes_HS12_V202401.csv\")\n",
    "df_2017 = pd.read_csv(r\"C:\\Users\\oguzo\\Desktop\\MENA\\CEE-MENA\\BACI\\BACI_HS17_V202401\\product_codes_HS17_V202401.csv\")\n",
    "df_2022 = pd.read_csv(r\"C:\\Users\\oguzo\\Desktop\\MENA\\CEE-MENA\\BACI\\BACI_HS22_V202401\\product_codes_HS22_V202401.csv\")\n",
    "\n",
    "# 2012, 2017 ve 2022ye ait product code'ları set yapıyoruz\n",
    "codes_2012 = set(df_2012['code'])\n",
    "codes_2017 = set(df_2017['code'])\n",
    "codes_2022 = set(df_2022['code'])\n",
    "\n",
    "# 2012-2017 yeni eklenen ürünler\n",
    "new_in_2017 = codes_2017 - codes_2012\n",
    "new_products_2017 = df_2017[df_2017['code'].isin(new_in_2017)]\n",
    "\n",
    "# 2017-2022 yeni eklenen ürünler\n",
    "new_in_2022 = codes_2022 - codes_2017\n",
    "new_products_2022 = df_2022[df_2022['code'].isin(new_in_2022)]\n",
    "\n",
    "# İki veri setini birleştirin\n",
    "combined_new_products = pd.concat([new_products_2017, new_products_2022], keys=['2017', '2022'])\n",
    "\n",
    "# Sonuçları Excel olarak kaydedin\n",
    "combined_new_products.to_excel('new_products_2017_2022.xlsx', index=True)\n",
    "\n",
    "# 2012-2022 yeni eklenen ürünler\n",
    "new_in_2022 = codes_2022 - codes_2012\n",
    "new_products_2012_2022 = df_2022[df_2022['code'].isin(new_in_2022)]\n",
    "new_products_2012_2022.to_excel('new_products_2012_2022.xlsx', index=True)\n",
    "\n",
    "#GTİP(HS) Kodu"
   ]
  },
  {
   "cell_type": "code",
   "execution_count": 7,
   "metadata": {},
   "outputs": [
    {
     "data": {
      "text/html": [
       "<div>\n",
       "<style scoped>\n",
       "    .dataframe tbody tr th:only-of-type {\n",
       "        vertical-align: middle;\n",
       "    }\n",
       "\n",
       "    .dataframe tbody tr th {\n",
       "        vertical-align: top;\n",
       "    }\n",
       "\n",
       "    .dataframe thead th {\n",
       "        text-align: right;\n",
       "    }\n",
       "</style>\n",
       "<table border=\"1\" class=\"dataframe\">\n",
       "  <thead>\n",
       "    <tr style=\"text-align: right;\">\n",
       "      <th></th>\n",
       "      <th></th>\n",
       "      <th>country_code</th>\n",
       "      <th>country_name</th>\n",
       "      <th>country_iso2</th>\n",
       "      <th>country_iso3</th>\n",
       "    </tr>\n",
       "  </thead>\n",
       "  <tbody>\n",
       "  </tbody>\n",
       "</table>\n",
       "</div>"
      ],
      "text/plain": [
       "Empty DataFrame\n",
       "Columns: [country_code, country_name, country_iso2, country_iso3]\n",
       "Index: []"
      ]
     },
     "execution_count": 7,
     "metadata": {},
     "output_type": "execute_result"
    }
   ],
   "source": [
    "import pandas as pd\n",
    "\n",
    "df_2012 = pd.read_csv(r\"C:\\Users\\oguzo\\Desktop\\MENA\\CEE-MENA\\BACI\\BACI_HS12_V202401\\country_codes_V202401.csv\")\n",
    "df_2017 = pd.read_csv(r\"C:\\Users\\oguzo\\Desktop\\MENA\\CEE-MENA\\BACI\\BACI_HS17_V202401\\country_codes_V202401.csv\")\n",
    "df_2022 = pd.read_csv(r\"C:\\Users\\oguzo\\Desktop\\MENA\\CEE-MENA\\BACI\\BACI_HS22_V202401\\country_codes_V202401.csv\")\n",
    "\n",
    "# 2012, 2017 ve 2022ye ait country code'ları set yapıyoruz\n",
    "countries_2012 = set(df_2012['country_code'])\n",
    "countries_2017 = set(df_2017['country_code'])\n",
    "countries_2022 = set(df_2022['country_code'])\n",
    "\n",
    "# 2012-2017 yeni eklenen ülkeler\n",
    "new_countries_2017 = countries_2017 - countries_2012\n",
    "new_countries_2017_df = df_2017[df_2017['country_code'].isin(new_countries_2017)]\n",
    "\n",
    "# 2017-2022 yeni eklenen ülkeler\n",
    "new_countries_2022 = countries_2022 - countries_2017\n",
    "new_countries_2022_df = df_2022[df_2022['country_code'].isin(new_countries_2022)]\n",
    "\n",
    "# Birleştirme\n",
    "combined_new_countries = pd.concat([new_countries_2017_df, new_countries_2022_df], keys=['2017', '2022'])\n",
    "combined_new_countries\n"
   ]
  },
  {
   "cell_type": "code",
   "execution_count": 1,
   "metadata": {},
   "outputs": [],
   "source": [
    "import pandas as pd\n",
    "# CSVleri düzelt yerini değiştirdim\n",
    "df_HS12_2022 = pd.read_csv(r\"C:\\Users\\oguzo\\Desktop\\MENA\\CEE-MENA\\BACI\\BACI_HS12_V202401\\BACI_HS12_Y2022_V202401.csv\")\n",
    "df_HS17_2022 = pd.read_csv(r\"C:\\Users\\oguzo\\Desktop\\MENA\\CEE-MENA\\BACI\\BACI_HS17_V202401\\BACI_HS17_Y2022_V202401.csv\")\n",
    "df_HS22_2022 = pd.read_csv(r\"C:\\Users\\oguzo\\Desktop\\MENA\\CEE-MENA\\BACI\\BACI_HS22_V202401\\BACI_HS22_Y2022_V202401.csv\")"
   ]
  },
  {
   "cell_type": "code",
   "execution_count": 11,
   "metadata": {},
   "outputs": [
    {
     "name": "stdout",
     "output_type": "stream",
     "text": [
      "11360162 11375504 10825016\n"
     ]
    }
   ],
   "source": [
    "print(len(df_HS12_2022), len(df_HS17_2022), len(df_HS22_2022))"
   ]
  },
  {
   "cell_type": "code",
   "execution_count": 15,
   "metadata": {},
   "outputs": [
    {
     "data": {
      "text/plain": [
       "False"
      ]
     },
     "execution_count": 15,
     "metadata": {},
     "output_type": "execute_result"
    }
   ],
   "source": [
    "sorted(df_HS22_2022[\"k\"]).drop_duplicates(subset=[\"k\"]) == sorted(df_HS17_2022[\"k\"])"
   ]
  },
  {
   "cell_type": "code",
   "execution_count": 29,
   "metadata": {},
   "outputs": [],
   "source": [
    "# df_HS22_2022[\"k\"] sütunundaki tekrar eden değerlerden sadece birini bırakmak\n",
    "\n",
    "df_unique_once = df_HS22_2022.drop_duplicates(subset=[\"k\"])\n",
    "df3 = df_unique_once.sort_values(by=\"k\")\n",
    "df_unique_once = df_HS17_2022.drop_duplicates(subset=[\"k\"])\n",
    "df2 = df_unique_once.sort_values(by=\"k\")\n",
    "df_unique_once = df_HS12_2022.drop_duplicates(subset=[\"k\"])\n",
    "df1 = df_unique_once.sort_values(by=\"k\")"
   ]
  },
  {
   "cell_type": "code",
   "execution_count": 31,
   "metadata": {},
   "outputs": [
    {
     "name": "stdout",
     "output_type": "stream",
     "text": [
      "5198 5380 5606\n"
     ]
    }
   ],
   "source": [
    "print(len(df1), len(df2), len(df3))"
   ]
  },
  {
   "cell_type": "markdown",
   "metadata": {},
   "source": [
    "## 14/10/2024"
   ]
  },
  {
   "cell_type": "code",
   "execution_count": 33,
   "metadata": {},
   "outputs": [
    {
     "name": "stdout",
     "output_type": "stream",
     "text": [
      "Birleştirme tamamlandı ve dosya kaydedildi.\n"
     ]
    }
   ],
   "source": [
    "import pandas as pd\n",
    "\n",
    "# Dosya yollarını belirleyin\n",
    "country_codes_path = r\"C:\\Users\\oguzo\\Desktop\\BACI\\BACI_HS12_V202401\\country_codes_V202401.csv\"\n",
    "ulkeler_path = r\"C:\\Users\\oguzo\\Desktop\\MENA\\CEE-MENA\\Ülkeler.xlsx\"\n",
    "\n",
    "# CSV ve Excel dosyalarını okuyun\n",
    "country_codes_df = pd.read_csv(country_codes_path)\n",
    "ulkeler_df = pd.read_excel(ulkeler_path)\n",
    "\n",
    "# Verileri 'Countries' (ülkeler_df) ve 'country_name' (country_codes_df) sütunlarına göre birleştirin\n",
    "merged_df = pd.merge(ulkeler_df, country_codes_df, left_on='Countries', right_on='country_name', how='left')\n",
    "\n",
    "# country_code, country_iso2 ve country_iso3 sütunlarının sonuçlara eklendiğinden emin olun\n",
    "merged_df = merged_df[['Countries', 'country_code', 'country_iso2', 'country_iso3', 'EU', 'NATO', 'CIS', 'CSTO']]\n",
    "\n",
    "# Eksik eşleşmeleri kontrol edin \n",
    "mismatches = merged_df[merged_df['country_code'].isna()]\n",
    "\n",
    "# Eşleşen verileri kaydetmek için\n",
    "merged_df.to_excel('ulkeler_with_codes.xlsx', index=False)\n",
    "\n",
    "# Elle düzelttim mismatchleri\n"
   ]
  },
  {
   "cell_type": "code",
   "execution_count": 56,
   "metadata": {},
   "outputs": [
    {
     "data": {
      "text/html": [
       "<div>\n",
       "<style scoped>\n",
       "    .dataframe tbody tr th:only-of-type {\n",
       "        vertical-align: middle;\n",
       "    }\n",
       "\n",
       "    .dataframe tbody tr th {\n",
       "        vertical-align: top;\n",
       "    }\n",
       "\n",
       "    .dataframe thead th {\n",
       "        text-align: right;\n",
       "    }\n",
       "</style>\n",
       "<table border=\"1\" class=\"dataframe\">\n",
       "  <thead>\n",
       "    <tr style=\"text-align: right;\">\n",
       "      <th></th>\n",
       "      <th></th>\n",
       "      <th>code</th>\n",
       "      <th>description</th>\n",
       "    </tr>\n",
       "  </thead>\n",
       "  <tbody>\n",
       "    <tr>\n",
       "      <th rowspan=\"5\" valign=\"top\">2017</th>\n",
       "      <th>131</th>\n",
       "      <td>30249</td>\n",
       "      <td>Fish: fresh or chilled, n.e.c. in item no. 030...</td>\n",
       "    </tr>\n",
       "    <tr>\n",
       "      <th>150</th>\n",
       "      <td>30291</td>\n",
       "      <td>Fish: fresh or chilled, livers, roes and milt</td>\n",
       "    </tr>\n",
       "    <tr>\n",
       "      <th>151</th>\n",
       "      <td>30292</td>\n",
       "      <td>Fish: fresh or chilled, shark fins</td>\n",
       "    </tr>\n",
       "    <tr>\n",
       "      <th>152</th>\n",
       "      <td>30299</td>\n",
       "      <td>Fish: fresh or chilled, fish fins (other than ...</td>\n",
       "    </tr>\n",
       "    <tr>\n",
       "      <th>181</th>\n",
       "      <td>30359</td>\n",
       "      <td>Fish: frozen, n.e.c. in item no. 0303.5, exclu...</td>\n",
       "    </tr>\n",
       "    <tr>\n",
       "      <th>...</th>\n",
       "      <th>...</th>\n",
       "      <td>...</td>\n",
       "      <td>...</td>\n",
       "    </tr>\n",
       "    <tr>\n",
       "      <th rowspan=\"5\" valign=\"top\">2022</th>\n",
       "      <th>5603</th>\n",
       "      <td>970529</td>\n",
       "      <td>Collections and collectors' pieces: of zoologi...</td>\n",
       "    </tr>\n",
       "    <tr>\n",
       "      <th>5604</th>\n",
       "      <td>970531</td>\n",
       "      <td>Collections and collectors' pieces: of numisma...</td>\n",
       "    </tr>\n",
       "    <tr>\n",
       "      <th>5605</th>\n",
       "      <td>970539</td>\n",
       "      <td>Collections and collectors' pieces: of numisma...</td>\n",
       "    </tr>\n",
       "    <tr>\n",
       "      <th>5606</th>\n",
       "      <td>970610</td>\n",
       "      <td>Antiques: of an age exceeding 250 years</td>\n",
       "    </tr>\n",
       "    <tr>\n",
       "      <th>5607</th>\n",
       "      <td>970690</td>\n",
       "      <td>Antiques: of an age exceeding 100 years but no...</td>\n",
       "    </tr>\n",
       "  </tbody>\n",
       "</table>\n",
       "<p>633 rows × 2 columns</p>\n",
       "</div>"
      ],
      "text/plain": [
       "             code                                        description\n",
       "2017 131    30249  Fish: fresh or chilled, n.e.c. in item no. 030...\n",
       "     150    30291      Fish: fresh or chilled, livers, roes and milt\n",
       "     151    30292                 Fish: fresh or chilled, shark fins\n",
       "     152    30299  Fish: fresh or chilled, fish fins (other than ...\n",
       "     181    30359  Fish: frozen, n.e.c. in item no. 0303.5, exclu...\n",
       "...           ...                                                ...\n",
       "2022 5603  970529  Collections and collectors' pieces: of zoologi...\n",
       "     5604  970531  Collections and collectors' pieces: of numisma...\n",
       "     5605  970539  Collections and collectors' pieces: of numisma...\n",
       "     5606  970610            Antiques: of an age exceeding 250 years\n",
       "     5607  970690  Antiques: of an age exceeding 100 years but no...\n",
       "\n",
       "[633 rows x 2 columns]"
      ]
     },
     "execution_count": 56,
     "metadata": {},
     "output_type": "execute_result"
    }
   ],
   "source": [
    "import pandas as pd\n",
    "\n",
    "df_2012 = pd.read_csv(r\"C:\\Users\\oguzo\\Desktop\\BACI\\BACI_HS12_V202401\\product_codes_HS12_V202401.csv\")\n",
    "df_2017 = pd.read_csv(r\"C:\\Users\\oguzo\\Desktop\\BACI\\BACI_HS17_V202401\\product_codes_HS17_V202401.csv\")\n",
    "df_2022 = pd.read_csv(r\"C:\\Users\\oguzo\\Desktop\\BACI\\BACI_HS22_V202401\\product_codes_HS22_V202401.csv\")\n",
    "\n",
    "# 2012, 2017 ve 2022ye ait country code'ları set yapıyoruz\n",
    "products_2012 = set(df_2012['code'])\n",
    "products_2017 = set(df_2017['code'])\n",
    "products_2022 = set(df_2022['code'])\n",
    "\n",
    "# 2012-2017 yeni eklenen ülkeler\n",
    "new_products_2017 = products_2017 - products_2012\n",
    "new_products_2017_df = df_2017[df_2017['code'].isin(new_products_2017)]\n",
    "\n",
    "# 2017-2022 yeni eklenen ülkeler\n",
    "new_products_2022 = products_2022 - products_2017\n",
    "new_products_2022_df = df_2022[df_2022['code'].isin(new_products_2022)]\n",
    "\n",
    "# Birleştirme\n",
    "combined_new_products = pd.concat([new_products_2017_df, new_products_2022_df], keys=['2017', '2022'])\n",
    "combined_new_products"
   ]
  },
  {
   "cell_type": "code",
   "execution_count": 42,
   "metadata": {},
   "outputs": [
    {
     "name": "stdout",
     "output_type": "stream",
     "text": [
      "k\n",
      "10121     0.006527\n",
      "10129     0.005546\n",
      "10130     0.000018\n",
      "10190     0.000220\n",
      "10221     0.008049\n",
      "            ...   \n",
      "970200    0.002148\n",
      "970300    0.017840\n",
      "970400    0.000975\n",
      "970500    0.008323\n",
      "970600    0.018100\n",
      "Name: v, Length: 5199, dtype: float64\n"
     ]
    }
   ],
   "source": [
    "df = pd.read_csv(r\"C:\\Users\\oguzo\\Desktop\\BACI\\BACI_HS12_V202401\\BACI_HS12_Y2012_V202401.csv\")\n",
    "\n",
    "# Her ürün için ticaret hacmi (v'nin toplamı)\n",
    "urun_ticaret_hacmi = df.groupby(['k'])['v'].sum()\n",
    "\n",
    "# Toplam ticaret hacmi (v'nin toplamı)\n",
    "toplam_ticaret_hacmi = urun_ticaret_hacmi.sum()\n",
    "\n",
    "# Her ürünün ticaret hacmine oranı (yüzdesel)\n",
    "urun_ticaret_orani = (urun_ticaret_hacmi / toplam_ticaret_hacmi) * 100\n",
    "\n",
    "sum(urun_ticaret_orani)"
   ]
  },
  {
   "cell_type": "code",
   "execution_count": 51,
   "metadata": {},
   "outputs": [],
   "source": [
    "df12 = pd.read_csv(r\"C:\\Users\\oguzo\\Desktop\\BACI\\BACI_HS12_V202401\\BACI_HS12_Y2012_V202401.csv\")\n",
    "df13 = pd.read_csv(r\"C:\\Users\\oguzo\\Desktop\\BACI\\BACI_HS12_V202401\\BACI_HS12_Y2013_V202401.csv\")\n",
    "df14 = pd.read_csv(r\"C:\\Users\\oguzo\\Desktop\\BACI\\BACI_HS12_V202401\\BACI_HS12_Y2014_V202401.csv\")\n",
    "df15 = pd.read_csv(r\"C:\\Users\\oguzo\\Desktop\\BACI\\BACI_HS12_V202401\\BACI_HS12_Y2015_V202401.csv\")\n",
    "df16 = pd.read_csv(r\"C:\\Users\\oguzo\\Desktop\\BACI\\BACI_HS12_V202401\\BACI_HS12_Y2016_V202401.csv\")\n",
    "df17 = pd.read_csv(r\"C:\\Users\\oguzo\\Desktop\\BACI\\BACI_HS17_V202401\\BACI_HS17_Y2017_V202401.csv\")\n",
    "df18 = pd.read_csv(r\"C:\\Users\\oguzo\\Desktop\\BACI\\BACI_HS17_V202401\\BACI_HS17_Y2018_V202401.csv\")\n",
    "df19 = pd.read_csv(r\"C:\\Users\\oguzo\\Desktop\\BACI\\BACI_HS17_V202401\\BACI_HS17_Y2019_V202401.csv\")\n",
    "df20 = pd.read_csv(r\"C:\\Users\\oguzo\\Desktop\\BACI\\BACI_HS17_V202401\\BACI_HS17_Y2020_V202401.csv\")\n",
    "df21 = pd.read_csv(r\"C:\\Users\\oguzo\\Desktop\\BACI\\BACI_HS17_V202401\\BACI_HS17_Y2021_V202401.csv\")"
   ]
  },
  {
   "cell_type": "code",
   "execution_count": null,
   "metadata": {},
   "outputs": [],
   "source": [
    "f\"C:/Users/oguzo/Desktop/BACI/BACI_{hs_version}_V202401/BACI_{hs_version}_Y{year}_V202401.csv\"\n"
   ]
  },
  {
   "cell_type": "code",
   "execution_count": 58,
   "metadata": {},
   "outputs": [
    {
     "name": "stdout",
     "output_type": "stream",
     "text": [
      "   2012  2013  2014  2015  2016      2017     2018      2019      2020  \\\n",
      "0   0.0   0.0   0.0   0.0   0.0  2.598973  2.77306  3.026804  3.601382   \n",
      "\n",
      "       2021  \n",
      "0  3.811417  \n"
     ]
    }
   ],
   "source": [
    "# Yeni ürünlerin toplam ticaret hacimde oranlarının yıllar boyunca hesabı\n",
    "\n",
    "import pandas as pd\n",
    "\n",
    "# Yıllar ve ilgili HS sürümleri (2012-2016 için HS12, 2017 sonrası için HS17)\n",
    "yillar = list(range(2012, 2022))\n",
    "hs_versiyonlari = {year: 'HS12' if year <= 2016 else 'HS17' for year in yillar}\n",
    "\n",
    "# Dosya yolu formatı \n",
    "dosya_yolu_format = r\"C:\\Users\\oguzo\\Desktop\\BACI\\BACI_{hs_version}_V202401\\BACI_{hs_version}_Y{year}_V202401.csv\"\n",
    "\n",
    "sonuclar = pd.DataFrame()\n",
    "# Her yıl için işlem yapma\n",
    "for year in yillar:\n",
    "    hs_version = hs_versiyonlari[year] \n",
    "    dosya_yolu = dosya_yolu_format.format(hs_version=hs_version, year=year)  \n",
    "    df = pd.read_csv(dosya_yolu)\n",
    "    toplam_ticaret_hacmi = df['v'].sum()\n",
    "\n",
    "    # Yeni ürünlerin ticaret hacmini hesaplama\n",
    "    yeni_urunler_ticaret_hacmi = df[df['k'].isin(combined_new_products['code'])]['v'].sum()\n",
    "    \n",
    "    # Yeni ürünlerin ticaret hacminin toplam ticaret hacmine oranı\n",
    "    yeni_urunler_orani = (yeni_urunler_ticaret_hacmi / toplam_ticaret_hacmi) * 100\n",
    "    \n",
    "    # Sonuçları kaydetme (yıllara göre)\n",
    "    sonuclar.at[0, year] = yeni_urunler_orani\n",
    "print(sonuclar)\n"
   ]
  },
  {
   "cell_type": "code",
   "execution_count": null,
   "metadata": {},
   "outputs": [],
   "source": [
    "k//1000"
   ]
  },
  {
   "cell_type": "code",
   "execution_count": null,
   "metadata": {},
   "outputs": [],
   "source": [
    "import pandas as pd\n",
    "\n",
    "# Yıllar ve ilgili HS sürümleri\n",
    "yillar = list(range(2012, 2022))\n",
    "hs_versiyonlari = {year: 'HS12' if year <= 2016 else 'HS17' for year in yillar}\n",
    "\n",
    "dosya_yolu_format = r\"C:\\Users\\oguzo\\Desktop\\BACI\\BACI_{hs_version}_V202401\\BACI_{hs_version}_Y{year}_V202401.csv\"\n",
    "ulkeler_df = pd.read_excel('ulkeler_with_codes.xlsx')\n",
    "\n",
    "sonuclar = pd.DataFrame()\n",
    "for index, row in ulkeler_df.iterrows():\n",
    "    ulke = row['Countries']  \n",
    "    ulke_kodu = row['country_code']  \n",
    "    for year in yillar:\n",
    "        hs_version = hs_versiyonlari[year] \n",
    "        dosya_yolu = dosya_yolu_format.format(hs_version=hs_version, year=year)\n",
    "        df = pd.read_csv(dosya_yolu)\n",
    "        \n",
    "        # Yalnızca ilgili ülkeye ait veriyi filtreleme\n",
    "        ulke_veri = df[df['i'] == ulke_kodu]  \n",
    "        toplam_ticaret_hacmi = ulke_veri['v'].sum()\n",
    "        yeni_urunler_ticaret_hacmi = ulke_veri[ulke_veri['k'].isin(combined_new_products['code'])]['v'].sum()\n",
    "        if toplam_ticaret_hacmi > 0:  # Bölme hatalarını önlemek için\n",
    "            yeni_urunler_orani = (yeni_urunler_ticaret_hacmi / toplam_ticaret_hacmi) * 100\n",
    "        else:\n",
    "            yeni_urunler_orani = 0\n",
    "        sonuclar.at[ulke, year] = yeni_urunler_orani\n",
    "\n",
    "print(sonuclar)"
   ]
  }
 ],
 "metadata": {
  "kernelspec": {
   "display_name": "Python 3",
   "language": "python",
   "name": "python3"
  },
  "language_info": {
   "codemirror_mode": {
    "name": "ipython",
    "version": 3
   },
   "file_extension": ".py",
   "mimetype": "text/x-python",
   "name": "python",
   "nbconvert_exporter": "python",
   "pygments_lexer": "ipython3",
   "version": "3.11.9"
  }
 },
 "nbformat": 4,
 "nbformat_minor": 2
}
