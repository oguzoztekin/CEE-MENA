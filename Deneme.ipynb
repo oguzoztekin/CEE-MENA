{
 "cells": [
  {
   "cell_type": "markdown",
   "metadata": {},
   "source": [
    "## CEE/MENA"
   ]
  },
  {
   "cell_type": "markdown",
   "metadata": {},
   "source": [
    "CEE/MENA bölgesinde dış ticaret kodlarına göre (her yıl değişen) türkiye neden geride kalıyor? RCA kullanılacak. 5 ya da 10 yıllık inceleme eldeki verilere göre. FDI raporlarını incele. 1 sunum ve 1 rapor oluşturulacak. Sunum 10 sayfa en az olucak bir sürü grafikle tepav tarzı. <a href=\"[URL](https://www.canva.com/design/DAGR24td3jA/yA-qVenwE1Tjy81Pwd3V2w/edit?utm_content=DAGR24td3jA&utm_campaign=designshare&utm_medium=link2&utm_source=sharebutton)\">Canva Proje Planım</a>"
   ]
  },
  {
   "cell_type": "code",
   "execution_count": 38,
   "metadata": {},
   "outputs": [],
   "source": [
    "# Defining countries which we will work\n",
    "countries_list = [\"Algeria\", \"Bahrain\", \"Djibouti\", \"Egypt\", \"Iran\", \"Iraq\", \"Israel\", \"Jordan\", \"Kuwait\", \"Lebanon\", \"Libya\", \"Morocco\", \"Oman\", \"Palestine\", \"Qatar\", \"Saudi Arabia\", \"Somalia\", \"Sudan\", \"Syria\", \"Tunisia\", \"Turkey\", \"United Arab Emirates (UAE)\", \"Yemen\", \"Albania\", \"Armenia\", \"Azerbaijan\", \"Belarus\", \"Bosnia and Herzegovina\", \"Bulgaria\", \"Croatia\", \"Czech Republic\", \"Estonia\", \"Georgia\", \"Kosovo\", \"Latvia\", \"Lithuania\", \"Moldova\", \"Montenegro\", \"North Macedonia\", \"Hungary\", \"Poland\", \"Romania\", \"Russia\", \"Serbia\", \"Slovakia\", \"Slovenia\", \"Ukraine\", \"Cyprus\", \"Malta\"]\n",
    "import pandas as pd\n",
    "countries = pd.read_excel(\"Ülkeler.xlsx\")\n",
    "\n",
    "c = countries\n",
    "eu_c = countries[countries[\"EU\"] == \"Member State\"]\n",
    "nato_c = countries[countries[\"NATO\"] == \"Member State\"]\n",
    "cis_c = countries[countries[\"CIS\"] == \"Member State\"]\n",
    "csto_c = countries[countries[\"CSTO\"] == \"Member State\"]"
   ]
  },
  {
   "cell_type": "markdown",
   "metadata": {},
   "source": [
    "https://www.canva.com/design/DAGR24td3jA/yA-qVenwE1Tjy81Pwd3V2w/edit\n",
    "https://docs.google.com/document/d/19vUv3VAu3Eohh5-aC-pJbEUcKbPXn6vbK7cYgZSqu78/edit"
   ]
  },
  {
   "cell_type": "markdown",
   "metadata": {},
   "source": [
    "Değişen nace2 kodlarının ayarı hs ile. Yüksek teknoloji ayırımı"
   ]
  },
  {
   "cell_type": "code",
   "execution_count": null,
   "metadata": {},
   "outputs": [],
   "source": [
    "# Ülkelerin Nüfusları Gdpleri kategorilere bağlı olarak eklenecekler kağıtta var gerekli mi sor\n",
    "\n"
   ]
  },
  {
   "cell_type": "code",
   "execution_count": 1,
   "metadata": {},
   "outputs": [],
   "source": [
    "# New products\n",
    "\n",
    "import pandas as pd\n",
    "\n",
    "df_2012 = pd.read_csv(r\"C:\\Users\\oguzo\\Desktop\\MENA\\CEE-MENA\\BACI\\BACI_HS12_V202401\\product_codes_HS12_V202401.csv\")\n",
    "df_2017 = pd.read_csv(r\"C:\\Users\\oguzo\\Desktop\\MENA\\CEE-MENA\\BACI\\BACI_HS17_V202401\\product_codes_HS17_V202401.csv\")\n",
    "df_2022 = pd.read_csv(r\"C:\\Users\\oguzo\\Desktop\\MENA\\CEE-MENA\\BACI\\BACI_HS22_V202401\\product_codes_HS22_V202401.csv\")\n",
    "\n",
    "# 2012, 2017 ve 2022ye ait product code'ları set yapıyoruz\n",
    "codes_2012 = set(df_2012['code'])\n",
    "codes_2017 = set(df_2017['code'])\n",
    "codes_2022 = set(df_2022['code'])\n",
    "\n",
    "# 2012-2017 yeni eklenen ürünler\n",
    "new_in_2017 = codes_2017 - codes_2012\n",
    "new_products_2017 = df_2017[df_2017['code'].isin(new_in_2017)]\n",
    "\n",
    "# 2017-2022 yeni eklenen ürünler\n",
    "new_in_2022 = codes_2022 - codes_2017\n",
    "new_products_2022 = df_2022[df_2022['code'].isin(new_in_2022)]\n",
    "\n",
    "# İki veri setini birleştirin\n",
    "combined_new_products = pd.concat([new_products_2017, new_products_2022], keys=['2017', '2022'])\n",
    "\n",
    "# Sonuçları Excel olarak kaydedin\n",
    "combined_new_products.to_excel('new_products_2017_2022.xlsx', index=True)\n",
    "\n",
    "# 2012-2022 yeni eklenen ürünler\n",
    "new_in_2022 = codes_2022 - codes_2012\n",
    "new_products_2012_2022 = df_2022[df_2022['code'].isin(new_in_2022)]\n",
    "new_products_2012_2022.to_excel('new_products_2012_2022.xlsx', index=True)\n",
    "\n",
    "#GTİP(HS) Kodu"
   ]
  },
  {
   "cell_type": "code",
   "execution_count": 7,
   "metadata": {},
   "outputs": [
    {
     "data": {
      "text/html": [
       "<div>\n",
       "<style scoped>\n",
       "    .dataframe tbody tr th:only-of-type {\n",
       "        vertical-align: middle;\n",
       "    }\n",
       "\n",
       "    .dataframe tbody tr th {\n",
       "        vertical-align: top;\n",
       "    }\n",
       "\n",
       "    .dataframe thead th {\n",
       "        text-align: right;\n",
       "    }\n",
       "</style>\n",
       "<table border=\"1\" class=\"dataframe\">\n",
       "  <thead>\n",
       "    <tr style=\"text-align: right;\">\n",
       "      <th></th>\n",
       "      <th></th>\n",
       "      <th>country_code</th>\n",
       "      <th>country_name</th>\n",
       "      <th>country_iso2</th>\n",
       "      <th>country_iso3</th>\n",
       "    </tr>\n",
       "  </thead>\n",
       "  <tbody>\n",
       "  </tbody>\n",
       "</table>\n",
       "</div>"
      ],
      "text/plain": [
       "Empty DataFrame\n",
       "Columns: [country_code, country_name, country_iso2, country_iso3]\n",
       "Index: []"
      ]
     },
     "execution_count": 7,
     "metadata": {},
     "output_type": "execute_result"
    }
   ],
   "source": [
    "import pandas as pd\n",
    "\n",
    "df_2012 = pd.read_csv(r\"C:\\Users\\oguzo\\Desktop\\MENA\\CEE-MENA\\BACI\\BACI_HS12_V202401\\country_codes_V202401.csv\")\n",
    "df_2017 = pd.read_csv(r\"C:\\Users\\oguzo\\Desktop\\MENA\\CEE-MENA\\BACI\\BACI_HS17_V202401\\country_codes_V202401.csv\")\n",
    "df_2022 = pd.read_csv(r\"C:\\Users\\oguzo\\Desktop\\MENA\\CEE-MENA\\BACI\\BACI_HS22_V202401\\country_codes_V202401.csv\")\n",
    "\n",
    "# 2012, 2017 ve 2022ye ait country code'ları set yapıyoruz\n",
    "countries_2012 = set(df_2012['country_code'])\n",
    "countries_2017 = set(df_2017['country_code'])\n",
    "countries_2022 = set(df_2022['country_code'])\n",
    "\n",
    "# 2012-2017 yeni eklenen ülkeler\n",
    "new_countries_2017 = countries_2017 - countries_2012\n",
    "new_countries_2017_df = df_2017[df_2017['country_code'].isin(new_countries_2017)]\n",
    "\n",
    "# 2017-2022 yeni eklenen ülkeler\n",
    "new_countries_2022 = countries_2022 - countries_2017\n",
    "new_countries_2022_df = df_2022[df_2022['country_code'].isin(new_countries_2022)]\n",
    "\n",
    "# Birleştirme\n",
    "combined_new_countries = pd.concat([new_countries_2017_df, new_countries_2022_df], keys=['2017', '2022'])\n",
    "combined_new_countries\n"
   ]
  },
  {
   "cell_type": "code",
   "execution_count": 1,
   "metadata": {},
   "outputs": [],
   "source": [
    "import pandas as pd\n",
    "# CSVleri düzelt yerini değiştirdim\n",
    "df_HS12_2022 = pd.read_csv(r\"C:\\Users\\oguzo\\Desktop\\MENA\\CEE-MENA\\BACI\\BACI_HS12_V202401\\BACI_HS12_Y2022_V202401.csv\")\n",
    "df_HS17_2022 = pd.read_csv(r\"C:\\Users\\oguzo\\Desktop\\MENA\\CEE-MENA\\BACI\\BACI_HS17_V202401\\BACI_HS17_Y2022_V202401.csv\")\n",
    "df_HS22_2022 = pd.read_csv(r\"C:\\Users\\oguzo\\Desktop\\MENA\\CEE-MENA\\BACI\\BACI_HS22_V202401\\BACI_HS22_Y2022_V202401.csv\")"
   ]
  },
  {
   "cell_type": "code",
   "execution_count": 11,
   "metadata": {},
   "outputs": [
    {
     "name": "stdout",
     "output_type": "stream",
     "text": [
      "11360162 11375504 10825016\n"
     ]
    }
   ],
   "source": [
    "print(len(df_HS12_2022), len(df_HS17_2022), len(df_HS22_2022))"
   ]
  },
  {
   "cell_type": "code",
   "execution_count": 15,
   "metadata": {},
   "outputs": [
    {
     "data": {
      "text/plain": [
       "False"
      ]
     },
     "execution_count": 15,
     "metadata": {},
     "output_type": "execute_result"
    }
   ],
   "source": [
    "sorted(df_HS22_2022[\"k\"]).drop_duplicates(subset=[\"k\"]) == sorted(df_HS17_2022[\"k\"])"
   ]
  },
  {
   "cell_type": "code",
   "execution_count": 29,
   "metadata": {},
   "outputs": [],
   "source": [
    "# df_HS22_2022[\"k\"] sütunundaki tekrar eden değerlerden sadece birini bırakmak\n",
    "\n",
    "df_unique_once = df_HS22_2022.drop_duplicates(subset=[\"k\"])\n",
    "df3 = df_unique_once.sort_values(by=\"k\")\n",
    "df_unique_once = df_HS17_2022.drop_duplicates(subset=[\"k\"])\n",
    "df2 = df_unique_once.sort_values(by=\"k\")\n",
    "df_unique_once = df_HS12_2022.drop_duplicates(subset=[\"k\"])\n",
    "df1 = df_unique_once.sort_values(by=\"k\")"
   ]
  },
  {
   "cell_type": "code",
   "execution_count": 31,
   "metadata": {},
   "outputs": [
    {
     "name": "stdout",
     "output_type": "stream",
     "text": [
      "5198 5380 5606\n"
     ]
    }
   ],
   "source": [
    "print(len(df1), len(df2), len(df3))"
   ]
  },
  {
   "cell_type": "markdown",
   "metadata": {},
   "source": [
    "## 14/10/2024"
   ]
  },
  {
   "cell_type": "code",
   "execution_count": 33,
   "metadata": {},
   "outputs": [
    {
     "name": "stdout",
     "output_type": "stream",
     "text": [
      "Birleştirme tamamlandı ve dosya kaydedildi.\n"
     ]
    }
   ],
   "source": [
    "import pandas as pd\n",
    "\n",
    "# Dosya yollarını belirleyin\n",
    "country_codes_path = r\"C:\\Users\\oguzo\\Desktop\\BACI\\BACI_HS12_V202401\\country_codes_V202401.csv\"\n",
    "ulkeler_path = r\"C:\\Users\\oguzo\\Desktop\\MENA\\CEE-MENA\\Ülkeler.xlsx\"\n",
    "\n",
    "# CSV ve Excel dosyalarını okuyun\n",
    "country_codes_df = pd.read_csv(country_codes_path)\n",
    "ulkeler_df = pd.read_excel(ulkeler_path)\n",
    "\n",
    "# Verileri 'Countries' (ülkeler_df) ve 'country_name' (country_codes_df) sütunlarına göre birleştirin\n",
    "merged_df = pd.merge(ulkeler_df, country_codes_df, left_on='Countries', right_on='country_name', how='left')\n",
    "\n",
    "# country_code, country_iso2 ve country_iso3 sütunlarının sonuçlara eklendiğinden emin olun\n",
    "merged_df = merged_df[['Countries', 'country_code', 'country_iso2', 'country_iso3', 'EU', 'NATO', 'CIS', 'CSTO']]\n",
    "\n",
    "# Eksik eşleşmeleri kontrol edin \n",
    "mismatches = merged_df[merged_df['country_code'].isna()]\n",
    "\n",
    "# Eşleşen verileri kaydetmek için\n",
    "merged_df.to_excel('ulkeler_with_codes.xlsx', index=False)\n",
    "\n",
    "# Elle düzelttim mismatchleri\n"
   ]
  },
  {
   "cell_type": "code",
   "execution_count": 56,
   "metadata": {},
   "outputs": [
    {
     "data": {
      "text/html": [
       "<div>\n",
       "<style scoped>\n",
       "    .dataframe tbody tr th:only-of-type {\n",
       "        vertical-align: middle;\n",
       "    }\n",
       "\n",
       "    .dataframe tbody tr th {\n",
       "        vertical-align: top;\n",
       "    }\n",
       "\n",
       "    .dataframe thead th {\n",
       "        text-align: right;\n",
       "    }\n",
       "</style>\n",
       "<table border=\"1\" class=\"dataframe\">\n",
       "  <thead>\n",
       "    <tr style=\"text-align: right;\">\n",
       "      <th></th>\n",
       "      <th></th>\n",
       "      <th>code</th>\n",
       "      <th>description</th>\n",
       "    </tr>\n",
       "  </thead>\n",
       "  <tbody>\n",
       "    <tr>\n",
       "      <th rowspan=\"5\" valign=\"top\">2017</th>\n",
       "      <th>131</th>\n",
       "      <td>30249</td>\n",
       "      <td>Fish: fresh or chilled, n.e.c. in item no. 030...</td>\n",
       "    </tr>\n",
       "    <tr>\n",
       "      <th>150</th>\n",
       "      <td>30291</td>\n",
       "      <td>Fish: fresh or chilled, livers, roes and milt</td>\n",
       "    </tr>\n",
       "    <tr>\n",
       "      <th>151</th>\n",
       "      <td>30292</td>\n",
       "      <td>Fish: fresh or chilled, shark fins</td>\n",
       "    </tr>\n",
       "    <tr>\n",
       "      <th>152</th>\n",
       "      <td>30299</td>\n",
       "      <td>Fish: fresh or chilled, fish fins (other than ...</td>\n",
       "    </tr>\n",
       "    <tr>\n",
       "      <th>181</th>\n",
       "      <td>30359</td>\n",
       "      <td>Fish: frozen, n.e.c. in item no. 0303.5, exclu...</td>\n",
       "    </tr>\n",
       "    <tr>\n",
       "      <th>...</th>\n",
       "      <th>...</th>\n",
       "      <td>...</td>\n",
       "      <td>...</td>\n",
       "    </tr>\n",
       "    <tr>\n",
       "      <th rowspan=\"5\" valign=\"top\">2022</th>\n",
       "      <th>5603</th>\n",
       "      <td>970529</td>\n",
       "      <td>Collections and collectors' pieces: of zoologi...</td>\n",
       "    </tr>\n",
       "    <tr>\n",
       "      <th>5604</th>\n",
       "      <td>970531</td>\n",
       "      <td>Collections and collectors' pieces: of numisma...</td>\n",
       "    </tr>\n",
       "    <tr>\n",
       "      <th>5605</th>\n",
       "      <td>970539</td>\n",
       "      <td>Collections and collectors' pieces: of numisma...</td>\n",
       "    </tr>\n",
       "    <tr>\n",
       "      <th>5606</th>\n",
       "      <td>970610</td>\n",
       "      <td>Antiques: of an age exceeding 250 years</td>\n",
       "    </tr>\n",
       "    <tr>\n",
       "      <th>5607</th>\n",
       "      <td>970690</td>\n",
       "      <td>Antiques: of an age exceeding 100 years but no...</td>\n",
       "    </tr>\n",
       "  </tbody>\n",
       "</table>\n",
       "<p>633 rows × 2 columns</p>\n",
       "</div>"
      ],
      "text/plain": [
       "             code                                        description\n",
       "2017 131    30249  Fish: fresh or chilled, n.e.c. in item no. 030...\n",
       "     150    30291      Fish: fresh or chilled, livers, roes and milt\n",
       "     151    30292                 Fish: fresh or chilled, shark fins\n",
       "     152    30299  Fish: fresh or chilled, fish fins (other than ...\n",
       "     181    30359  Fish: frozen, n.e.c. in item no. 0303.5, exclu...\n",
       "...           ...                                                ...\n",
       "2022 5603  970529  Collections and collectors' pieces: of zoologi...\n",
       "     5604  970531  Collections and collectors' pieces: of numisma...\n",
       "     5605  970539  Collections and collectors' pieces: of numisma...\n",
       "     5606  970610            Antiques: of an age exceeding 250 years\n",
       "     5607  970690  Antiques: of an age exceeding 100 years but no...\n",
       "\n",
       "[633 rows x 2 columns]"
      ]
     },
     "execution_count": 56,
     "metadata": {},
     "output_type": "execute_result"
    }
   ],
   "source": [
    "import pandas as pd\n",
    "\n",
    "df_2012 = pd.read_csv(r\"C:\\Users\\oguzo\\Desktop\\BACI\\BACI_HS12_V202401\\product_codes_HS12_V202401.csv\")\n",
    "df_2017 = pd.read_csv(r\"C:\\Users\\oguzo\\Desktop\\BACI\\BACI_HS17_V202401\\product_codes_HS17_V202401.csv\")\n",
    "df_2022 = pd.read_csv(r\"C:\\Users\\oguzo\\Desktop\\BACI\\BACI_HS22_V202401\\product_codes_HS22_V202401.csv\")\n",
    "\n",
    "# 2012, 2017 ve 2022ye ait country code'ları set yapıyoruz\n",
    "products_2012 = set(df_2012['code'])\n",
    "products_2017 = set(df_2017['code'])\n",
    "products_2022 = set(df_2022['code'])\n",
    "\n",
    "# 2012-2017 yeni eklenen ülkeler\n",
    "new_products_2017 = products_2017 - products_2012\n",
    "new_products_2017_df = df_2017[df_2017['code'].isin(new_products_2017)]\n",
    "\n",
    "# 2017-2022 yeni eklenen ülkeler\n",
    "new_products_2022 = products_2022 - products_2017\n",
    "new_products_2022_df = df_2022[df_2022['code'].isin(new_products_2022)]\n",
    "\n",
    "# Birleştirme\n",
    "combined_new_products = pd.concat([new_products_2017_df, new_products_2022_df], keys=['2017', '2022'])\n",
    "combined_new_products"
   ]
  },
  {
   "cell_type": "code",
   "execution_count": 61,
   "metadata": {},
   "outputs": [
    {
     "data": {
      "text/plain": [
       "100.0000000000003"
      ]
     },
     "execution_count": 61,
     "metadata": {},
     "output_type": "execute_result"
    }
   ],
   "source": [
    "df = pd.read_csv(r\"C:\\Users\\oguzo\\Desktop\\BACI\\BACI_HS12_V202401\\BACI_HS12_Y2012_V202401.csv\")\n",
    "\n",
    "# Her ürün için ticaret hacmi (v'nin toplamı)\n",
    "urun_ticaret_hacmi = df.groupby(['k'])['v'].sum()\n",
    "\n",
    "# Toplam ticaret hacmi (v'nin toplamı)\n",
    "toplam_ticaret_hacmi = urun_ticaret_hacmi.sum()\n",
    "\n",
    "# Her ürünün ticaret hacmine oranı (yüzdesel)\n",
    "urun_ticaret_orani = (urun_ticaret_hacmi / toplam_ticaret_hacmi) * 100\n",
    "\n",
    "sum(urun_ticaret_orani)"
   ]
  },
  {
   "cell_type": "code",
   "execution_count": 51,
   "metadata": {},
   "outputs": [],
   "source": [
    "df12 = pd.read_csv(r\"C:\\Users\\oguzo\\Desktop\\BACI\\BACI_HS12_V202401\\BACI_HS12_Y2012_V202401.csv\")\n",
    "df13 = pd.read_csv(r\"C:\\Users\\oguzo\\Desktop\\BACI\\BACI_HS12_V202401\\BACI_HS12_Y2013_V202401.csv\")\n",
    "df14 = pd.read_csv(r\"C:\\Users\\oguzo\\Desktop\\BACI\\BACI_HS12_V202401\\BACI_HS12_Y2014_V202401.csv\")\n",
    "df15 = pd.read_csv(r\"C:\\Users\\oguzo\\Desktop\\BACI\\BACI_HS12_V202401\\BACI_HS12_Y2015_V202401.csv\")\n",
    "df16 = pd.read_csv(r\"C:\\Users\\oguzo\\Desktop\\BACI\\BACI_HS12_V202401\\BACI_HS12_Y2016_V202401.csv\")\n",
    "df17 = pd.read_csv(r\"C:\\Users\\oguzo\\Desktop\\BACI\\BACI_HS17_V202401\\BACI_HS17_Y2017_V202401.csv\")\n",
    "df18 = pd.read_csv(r\"C:\\Users\\oguzo\\Desktop\\BACI\\BACI_HS17_V202401\\BACI_HS17_Y2018_V202401.csv\")\n",
    "df19 = pd.read_csv(r\"C:\\Users\\oguzo\\Desktop\\BACI\\BACI_HS17_V202401\\BACI_HS17_Y2019_V202401.csv\")\n",
    "df20 = pd.read_csv(r\"C:\\Users\\oguzo\\Desktop\\BACI\\BACI_HS17_V202401\\BACI_HS17_Y2020_V202401.csv\")\n",
    "df21 = pd.read_csv(r\"C:\\Users\\oguzo\\Desktop\\BACI\\BACI_HS17_V202401\\BACI_HS17_Y2021_V202401.csv\")"
   ]
  },
  {
   "cell_type": "code",
   "execution_count": null,
   "metadata": {},
   "outputs": [],
   "source": [
    "f\"C:/Users/oguzo/Desktop/BACI/BACI_{hs_version}_V202401/BACI_{hs_version}_Y{year}_V202401.csv\"\n"
   ]
  },
  {
   "cell_type": "code",
   "execution_count": 58,
   "metadata": {},
   "outputs": [
    {
     "name": "stdout",
     "output_type": "stream",
     "text": [
      "   2012  2013  2014  2015  2016      2017     2018      2019      2020  \\\n",
      "0   0.0   0.0   0.0   0.0   0.0  2.598973  2.77306  3.026804  3.601382   \n",
      "\n",
      "       2021  \n",
      "0  3.811417  \n"
     ]
    }
   ],
   "source": [
    "# Yeni ürünlerin toplam ticaret hacimde oranlarının yıllar boyunca hesabı\n",
    "\n",
    "import pandas as pd\n",
    "\n",
    "# Yıllar ve ilgili HS sürümleri (2012-2016 için HS12, 2017 sonrası için HS17)\n",
    "yillar = list(range(2012, 2022))\n",
    "hs_versiyonlari = {year: 'HS12' if year <= 2016 else 'HS17' for year in yillar}\n",
    "\n",
    "# Dosya yolu formatı \n",
    "dosya_yolu_format = r\"C:\\Users\\oguzo\\Desktop\\BACI\\BACI_{hs_version}_V202401\\BACI_{hs_version}_Y{year}_V202401.csv\"\n",
    "\n",
    "sonuclar = pd.DataFrame()\n",
    "# Her yıl için işlem yapma\n",
    "for year in yillar:\n",
    "    hs_version = hs_versiyonlari[year] \n",
    "    dosya_yolu = dosya_yolu_format.format(hs_version=hs_version, year=year)  \n",
    "    df = pd.read_csv(dosya_yolu)\n",
    "    toplam_ticaret_hacmi = df['v'].sum()\n",
    "\n",
    "    # Yeni ürünlerin ticaret hacmini hesaplama\n",
    "    yeni_urunler_ticaret_hacmi = df[df['k'].isin(combined_new_products['code'])]['v'].sum()\n",
    "    \n",
    "    # Yeni ürünlerin ticaret hacminin toplam ticaret hacmine oranı\n",
    "    yeni_urunler_orani = (yeni_urunler_ticaret_hacmi / toplam_ticaret_hacmi) * 100\n",
    "    \n",
    "    # Sonuçları kaydetme (yıllara göre)\n",
    "    sonuclar.at[0, year] = yeni_urunler_orani\n",
    "print(sonuclar)\n"
   ]
  },
  {
   "cell_type": "code",
   "execution_count": null,
   "metadata": {},
   "outputs": [],
   "source": [
    "k//1000"
   ]
  },
  {
   "cell_type": "code",
   "execution_count": 60,
   "metadata": {},
   "outputs": [
    {
     "name": "stdout",
     "output_type": "stream",
     "text": [
      "                           2012  2013  2014  2015  2016       2017       2018  \\\n",
      "Albania                     0.0   0.0   0.0   0.0   0.0   0.963994   0.826627   \n",
      "Bosnia Herzegovina          0.0   0.0   0.0   0.0   0.0   3.655677   3.567327   \n",
      "Bulgaria                    0.0   0.0   0.0   0.0   0.0   1.629434   1.798802   \n",
      "Croatia                     0.0   0.0   0.0   0.0   0.0   5.649247   4.663727   \n",
      "Czech Republic              0.0   0.0   0.0   0.0   0.0   2.082282   2.222300   \n",
      "Estonia                     0.0   0.0   0.0   0.0   0.0   8.005846   8.621459   \n",
      "Hungary                     0.0   0.0   0.0   0.0   0.0   1.889884   2.117672   \n",
      "Latvia                      0.0   0.0   0.0   0.0   0.0  11.175359  11.895343   \n",
      "Lithuania                   0.0   0.0   0.0   0.0   0.0   5.541335   6.067282   \n",
      "Montenegro                  0.0   0.0   0.0   0.0   0.0   1.619346   2.185849   \n",
      "North Macedonia             0.0   0.0   0.0   0.0   0.0   0.532390   0.368267   \n",
      "Poland                      0.0   0.0   0.0   0.0   0.0   1.672554   1.953107   \n",
      "Romania                     0.0   0.0   0.0   0.0   0.0   1.350449   1.304755   \n",
      "Serbia                      0.0   0.0   0.0   0.0   0.0   1.479481   1.527893   \n",
      "Slovakia                    0.0   0.0   0.0   0.0   0.0   1.474502   1.817545   \n",
      "Slovenia                    0.0   0.0   0.0   0.0   0.0   3.297337   3.673729   \n",
      "Armenia                     0.0   0.0   0.0   0.0   0.0   0.239907   0.191238   \n",
      "Azerbaijan                  0.0   0.0   0.0   0.0   0.0   0.040473   0.045929   \n",
      "Belarus                     0.0   0.0   0.0   0.0   0.0   4.912840   4.643130   \n",
      "Georgia                     0.0   0.0   0.0   0.0   0.0   1.534034   1.696587   \n",
      "Moldova                     0.0   0.0   0.0   0.0   0.0   0.549084   0.548205   \n",
      "Russia                      0.0   0.0   0.0   0.0   0.0   2.279475   2.107790   \n",
      "Ukraine                     0.0   0.0   0.0   0.0   0.0   1.977999   2.112430   \n",
      "Cyprus                      0.0   0.0   0.0   0.0   0.0   0.996970   0.887983   \n",
      "Israel                      0.0   0.0   0.0   0.0   0.0   2.355069   2.432826   \n",
      "Malta                       0.0   0.0   0.0   0.0   0.0   1.131095   1.007762   \n",
      "Algeria                     0.0   0.0   0.0   0.0   0.0   0.032616   0.054045   \n",
      "Bahrain                     0.0   0.0   0.0   0.0   0.0   0.345494   0.198894   \n",
      "Djibouti                    0.0   0.0   0.0   0.0   0.0   0.428303   0.409294   \n",
      "Egypt                       0.0   0.0   0.0   0.0   0.0   1.075687   1.304051   \n",
      "Iran                        0.0   0.0   0.0   0.0   0.0   0.953115   0.902118   \n",
      "Iraq                        0.0   0.0   0.0   0.0   0.0   0.001040   0.000404   \n",
      "Jordan                      0.0   0.0   0.0   0.0   0.0   0.229072   0.236253   \n",
      "Kuwait                      0.0   0.0   0.0   0.0   0.0   0.292937   1.353788   \n",
      "Lebanon                     0.0   0.0   0.0   0.0   0.0   2.427743   2.754473   \n",
      "Libya                       0.0   0.0   0.0   0.0   0.0   0.007542   0.004631   \n",
      "Morocco                     0.0   0.0   0.0   0.0   0.0   5.487408   4.786966   \n",
      "Oman                        0.0   0.0   0.0   0.0   0.0   0.834522   0.907953   \n",
      "Palestine                   0.0   0.0   0.0   0.0   0.0   1.284602   0.827639   \n",
      "Qatar                       0.0   0.0   0.0   0.0   0.0   0.285416   0.262057   \n",
      "Saudi Arabia                0.0   0.0   0.0   0.0   0.0   0.950114   1.263119   \n",
      "Somalia                     0.0   0.0   0.0   0.0   0.0   7.997892   5.234716   \n",
      "Sudan                       0.0   0.0   0.0   0.0   0.0   0.003592   0.056346   \n",
      "Syria                       0.0   0.0   0.0   0.0   0.0   0.082225   0.207228   \n",
      "Tunisia                     0.0   0.0   0.0   0.0   0.0   0.654310   1.197680   \n",
      "Turkey                      0.0   0.0   0.0   0.0   0.0   3.045462   3.932606   \n",
      "United Arab Emirates(UAE)   0.0   0.0   0.0   0.0   0.0   0.703290   0.796425   \n",
      "Yemen                       0.0   0.0   0.0   0.0   0.0   0.748945   2.199151   \n",
      "\n",
      "                                2019       2020       2021  \n",
      "Albania                     1.070076   1.353848   1.418282  \n",
      "Bosnia Herzegovina          3.464985   4.028365   4.113901  \n",
      "Bulgaria                    2.093126   2.578105   2.894300  \n",
      "Croatia                     4.918672   5.868066   4.799448  \n",
      "Czech Republic              2.656412   4.197245   5.906488  \n",
      "Estonia                     8.823006   8.483660   9.114683  \n",
      "Hungary                     2.294908   3.925886   4.331911  \n",
      "Latvia                     11.669455  11.176067  13.053558  \n",
      "Lithuania                   5.879118   5.654777   6.346889  \n",
      "Montenegro                  1.536057   1.823182   2.195426  \n",
      "North Macedonia             0.413987   0.574563   0.594473  \n",
      "Poland                      1.640369   2.052188   2.310880  \n",
      "Romania                     1.559653   3.791839   3.518771  \n",
      "Serbia                      1.513553   1.551744   1.426655  \n",
      "Slovakia                    4.875186   9.652995  11.330470  \n",
      "Slovenia                    4.148861   5.552279   7.510036  \n",
      "Armenia                     0.272011   0.314697   0.418321  \n",
      "Azerbaijan                  0.047789   0.064551   0.052203  \n",
      "Belarus                     4.971772   5.968540   6.034639  \n",
      "Georgia                     2.662983   2.166141   2.537318  \n",
      "Moldova                     0.499940   0.850801   0.889384  \n",
      "Russia                      2.100165   2.624835   2.547447  \n",
      "Ukraine                     1.577444   1.778220   2.207438  \n",
      "Cyprus                      1.229895   2.089377   2.229534  \n",
      "Israel                      2.573409   3.002835   2.710498  \n",
      "Malta                       1.005383   1.472240   1.650954  \n",
      "Algeria                     0.049548   0.076928   0.082584  \n",
      "Bahrain                     0.172838   0.191866   0.213297  \n",
      "Djibouti                    1.045264   0.026788   0.099138  \n",
      "Egypt                       2.003916   1.849240   2.417582  \n",
      "Iran                        1.704984   1.892254   1.474486  \n",
      "Iraq                        0.001545   0.002490   0.003951  \n",
      "Jordan                      0.310800   0.495620   0.387982  \n",
      "Kuwait                      1.507880   2.030606   1.913945  \n",
      "Lebanon                     2.146548   1.584484   3.262142  \n",
      "Libya                       0.002843   0.003841   0.003781  \n",
      "Morocco                     4.674369   4.979953   5.596507  \n",
      "Oman                        0.811258   1.510745   1.126981  \n",
      "Palestine                   0.605056   0.451895   0.468804  \n",
      "Qatar                       0.298928   0.298626   0.179298  \n",
      "Saudi Arabia                1.249895   1.543079   1.098694  \n",
      "Somalia                     3.179925   2.051181   1.494334  \n",
      "Sudan                       0.062942   0.019088   0.044227  \n",
      "Syria                       0.409240   0.381634   0.505743  \n",
      "Tunisia                     1.379862   0.871298   1.275538  \n",
      "Turkey                      3.832884   4.544224   4.030941  \n",
      "United Arab Emirates(UAE)   0.787852   1.025315   0.881511  \n",
      "Yemen                       2.209426   3.257379   3.123039  \n"
     ]
    }
   ],
   "source": [
    "# HS2017'de olup HS2012'de olmayan ürünlerin CEE/MENA bölgesinde ticaret hacminde oranları yıl yıl\n",
    "\n",
    "import pandas as pd\n",
    "\n",
    "# Yıllar ve ilgili HS sürümleri\n",
    "yillar = list(range(2012, 2022))\n",
    "hs_versiyonlari = {year: 'HS12' if year <= 2016 else 'HS17' for year in yillar}\n",
    "\n",
    "dosya_yolu_format = r\"C:\\Users\\oguzo\\Desktop\\BACI\\BACI_{hs_version}_V202401\\BACI_{hs_version}_Y{year}_V202401.csv\"\n",
    "ulkeler_df = pd.read_excel('ulkeler_with_codes.xlsx')\n",
    "\n",
    "sonuclar = pd.DataFrame()\n",
    "for index, row in ulkeler_df.iterrows():\n",
    "    ulke = row['Countries']  \n",
    "    ulke_kodu = row['country_code']  \n",
    "    for year in yillar:\n",
    "        hs_version = hs_versiyonlari[year] \n",
    "        dosya_yolu = dosya_yolu_format.format(hs_version=hs_version, year=year)\n",
    "        df = pd.read_csv(dosya_yolu)\n",
    "        \n",
    "        # Yalnızca ilgili ülkeye ait veriyi filtreleme\n",
    "        ulke_veri = df[df['i'] == ulke_kodu]  \n",
    "        toplam_ticaret_hacmi = ulke_veri['v'].sum()\n",
    "        yeni_urunler_ticaret_hacmi = ulke_veri[ulke_veri['k'].isin(combined_new_products['code'])]['v'].sum()\n",
    "        if toplam_ticaret_hacmi > 0:  # Bölme hatalarını önlemek için\n",
    "            yeni_urunler_orani = (yeni_urunler_ticaret_hacmi / toplam_ticaret_hacmi) * 100\n",
    "        else:\n",
    "            yeni_urunler_orani = 0\n",
    "        sonuclar.at[ulke, year] = yeni_urunler_orani\n",
    "\n",
    "print(sonuclar)"
   ]
  },
  {
   "cell_type": "code",
   "execution_count": 66,
   "metadata": {},
   "outputs": [],
   "source": [
    "sonuclar.to_excel(\"HS2017de olup HS2012de olmayan ürünlerin CEE-MENA bölgesinde ticaret hacminde oranları yıl yıl.xlsx\")\n",
    "# Elle düzelttim Gürcistan, Ermenistan ve Azerbaycanı çıkardım"
   ]
  },
  {
   "cell_type": "code",
   "execution_count": null,
   "metadata": {},
   "outputs": [],
   "source": [
    " "
   ]
  }
 ],
 "metadata": {
  "kernelspec": {
   "display_name": "Python 3",
   "language": "python",
   "name": "python3"
  },
  "language_info": {
   "codemirror_mode": {
    "name": "ipython",
    "version": 3
   },
   "file_extension": ".py",
   "mimetype": "text/x-python",
   "name": "python",
   "nbconvert_exporter": "python",
   "pygments_lexer": "ipython3",
   "version": "3.11.9"
  }
 },
 "nbformat": 4,
 "nbformat_minor": 2
}
