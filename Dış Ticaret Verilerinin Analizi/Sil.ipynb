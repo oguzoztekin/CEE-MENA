{
 "cells": [
  {
   "cell_type": "code",
   "execution_count": 7,
   "metadata": {},
   "outputs": [],
   "source": [
    "# 1-) Yeni Ürünlerin sektörlerini bulmak\n",
    "\n",
    "import pandas as pd\n",
    "\n",
    "# CSV dosyalarını yükleyelim\n",
    "df_2002 = pd.read_csv(r\"C:\\Users\\oguzo\\Desktop\\BACI\\BACI_HS02_V202401\\product_codes_HS02_V202401.csv\")\n",
    "df_2007 = pd.read_csv(r\"C:\\Users\\oguzo\\Desktop\\BACI\\BACI_HS07_V202401\\product_codes_HS07_V202401.csv\")\n",
    "df_2012 = pd.read_csv(r\"C:\\Users\\oguzo\\Desktop\\BACI\\BACI_HS12_V202401\\product_codes_HS12_V202401.csv\")\n",
    "df_2017 = pd.read_csv(r\"C:\\Users\\oguzo\\Desktop\\BACI\\BACI_HS17_V202401\\product_codes_HS17_V202401.csv\")\n",
    "df_2022 = pd.read_csv(r\"C:\\Users\\oguzo\\Desktop\\BACI\\BACI_HS22_V202401\\product_codes_HS22_V202401.csv\")\n",
    "\n",
    "# 2002, 2007, 2012, 2017 ve 2022 yıllarına ait product code'ları set yap\n",
    "products_2002 = set(df_2002['code'])\n",
    "products_2007 = set(df_2007['code'])\n",
    "products_2012 = set(df_2012['code'])\n",
    "products_2017 = set(df_2017['code'])\n",
    "products_2022 = set(df_2022['code'])\n",
    "\n",
    "# 2002, 2012, 2017 ve 2022'de yeni eklenen ürünler\n",
    "new_products_2007 = products_2007 - products_2002\n",
    "new_products_2007_df = df_2007[df_2007['code'].isin(new_products_2007)].copy()\n",
    "new_products_2012 = products_2012 - products_2007\n",
    "new_products_2012_df = df_2012[df_2012['code'].isin(new_products_2012)].copy()\n",
    "new_products_2017 = products_2017 - products_2012\n",
    "new_products_2017_df = df_2017[df_2017['code'].isin(new_products_2017)].copy()\n",
    "new_products_2022 = products_2022 - products_2017\n",
    "new_products_2022_df = df_2022[df_2022['code'].isin(new_products_2022)].copy()\n",
    "\n",
    "# Her yıla ait veri setine \"Yıl\" sütunu ekleyelim\n",
    "new_products_2007_df['Yıl'] = 2007\n",
    "new_products_2012_df['Yıl'] = 2012\n",
    "new_products_2017_df['Yıl'] = 2017\n",
    "new_products_2022_df['Yıl'] = 2022\n",
    "\n",
    "# Üç yıldaki yeni ürünleri aynı data frame içine al\n",
    "combined_new_products = pd.concat([new_products_2022_df, new_products_2017_df, new_products_2012_df, new_products_2007_df], ignore_index=True)\n",
    "\n",
    "# 6 basamaklı HS kodlarını 10000'e bölerek 2 basamaklı sektörlerini bul\n",
    "combined_new_products['2 Basamaklı HS Kodu'] = combined_new_products['code'] // 10000\n",
    "\n",
    "# Atlas verisini çağırıp 2 basamaklı HS kodlarının isimlerini çekelim\n",
    "combined_atlas_df = pd.read_excel('0-) Atlastan Çekilmiş HS92 İsimleri 1 Basamak İçin.xlsx')\n",
    "combined_atlas_df['2 Basamaklı HS Kodları'] = combined_atlas_df['2 Basamaklı HS Kodları'].str.extract(r'\\((\\d{2})')\n",
    "combined_atlas_df['1 Basamaklı HS Kodları'] = combined_atlas_df['1 Basamaklı HS Kodları'].str.extract(r'\\((\\d{1})')\n",
    "\n",
    "# Bir sözlük oluşturarak 2 basamaklı HS kodları ve isimleri arasında bir map oluşturalım\n",
    "code_2_to_name_mapping = dict(zip(combined_atlas_df['2 Basamaklı HS Kodları'], combined_atlas_df['2 Basamaklı HS İsimleri']))\n",
    "code_2_to_code_1_mapping = dict(zip(combined_atlas_df['2 Basamaklı HS Kodları'], combined_atlas_df['1 Basamaklı HS Kodları']))\n",
    "code_1_to_name_mapping = dict(zip(combined_atlas_df['1 Basamaklı HS Kodları'], combined_atlas_df['1 Basamaklı HS İsimleri']))\n",
    "\n",
    "# 2 basamaklı HS kodlarını ve bunlara karşılık gelen 1 basamaklı kodları ve isimleri ekleyelim\n",
    "combined_new_products['2 Basamaklı HS İsmi'] = combined_new_products['2 Basamaklı HS Kodu'].astype(str).str.zfill(2).map(code_2_to_name_mapping)\n",
    "combined_new_products['1 Basamaklı HS Kodu'] = combined_new_products['2 Basamaklı HS Kodu'].astype(str).str.zfill(2).map(code_2_to_code_1_mapping)\n",
    "combined_new_products['1 Basamaklı HS İsmi'] = combined_new_products['1 Basamaklı HS Kodu'].map(code_1_to_name_mapping)\n",
    "\n",
    "# 6 basamaklı HS kodunu ve detaylı sektör ismini zaten koruyoruz\n",
    "combined_new_products = combined_new_products.rename(columns={'description': 'Detaylı Sektör İsmi', 'code': '6 Basamaklı HS Kodu'})  \n",
    "\n",
    "# \"Yıl\" sütununu en başa taşıyalım\n",
    "cols = ['Yıl'] + [col for col in combined_new_products.columns if col != 'Yıl']\n",
    "combined_new_products = combined_new_products[cols]\n",
    "\n",
    "# Excele kaydet\n",
    "combined_new_products.to_excel(\"1-) Yeni ürünlerin sektörleri.xlsx\")"
   ]
  },
  {
   "cell_type": "code",
   "execution_count": 2,
   "metadata": {},
   "outputs": [
    {
     "name": "stdout",
     "output_type": "stream",
     "text": [
      "Dosya başarıyla kaydedildi: 1_basamakli_HS_kodlarina_gore_oranlar.xlsx\n"
     ]
    }
   ],
   "source": [
    "import pandas as pd\n",
    "\n",
    "# Dosyayı yükle\n",
    "file_path = '1-) 2012, 2017 ve 2022\\'deki yeni ürünlerin sektörleri.xlsx'\n",
    "new_products_df = pd.read_excel(file_path)\n",
    "\n",
    "# Grup bazında sayıları hesapla: Yıl ve 1 Basamaklı HS Koduna göre\n",
    "sector_grouping_by_year = new_products_df.groupby(['Yıl', '1 Basamaklı HS Kodu', '1 Basamaklı HS İsmi']).size().reset_index(name='Sayı')\n",
    "\n",
    "# Toplam ürün sayısını yıl bazında hesapla\n",
    "total_by_year = sector_grouping_by_year.groupby('Yıl')['Sayı'].sum().reset_index(name='Toplam Ürün Sayısı')\n",
    "\n",
    "# Her yıl için 1 basamaklı HS kodlarının oranlarını hesapla\n",
    "sector_grouping_by_year = sector_grouping_by_year.merge(total_by_year, on='Yıl')\n",
    "sector_grouping_by_year['Oran (%)'] = (sector_grouping_by_year['Sayı'] / sector_grouping_by_year['Toplam Ürün Sayısı']) * 100\n",
    "\n",
    "# Sonuçları Excel dosyasına kaydet\n",
    "output_file_path = '1_basamakli_HS_kodlarina_gore_oranlar.xlsx'\n",
    "sector_grouping_by_year.to_excel(output_file_path, index=False)\n",
    "\n",
    "print(f\"Dosya başarıyla kaydedildi: {output_file_path}\")\n"
   ]
  },
  {
   "cell_type": "code",
   "execution_count": 3,
   "metadata": {},
   "outputs": [
    {
     "name": "stdout",
     "output_type": "stream",
     "text": [
      "Dosya başarıyla kaydedildi: dis_ticaret_oranlari.xlsx\n"
     ]
    }
   ],
   "source": [
    "import pandas as pd\n",
    "\n",
    "# Dış ticaret verisi için temel değişkenler\n",
    "# t: year, i: exporter, j: importer, k: product, v: value, q: quantity\n",
    "\n",
    "# Dış ticaret verilerini çekme fonksiyonu (veri kaynaklarını kendiniz ayarlamalısınız)\n",
    "def get_trade_data():\n",
    "    # Bu kısımda dış ticaret verisini kaynağınıza bağlı olarak API'den çekebilir ya da dosya okuyabilirsiniz.\n",
    "    # Örnek veriyi dış bir kaynaktan okuyabiliriz.\n",
    "    trade_data = pd.DataFrame({\n",
    "        't': [2012, 2012, 2017, 2017, 2022, 2022],\n",
    "        'i': ['Country_A', 'Country_B', 'Country_A', 'Country_B', 'Country_A', 'Country_B'],\n",
    "        'j': ['Country_X', 'Country_Y', 'Country_X', 'Country_Y', 'Country_X', 'Country_Y'],\n",
    "        'k': [1, 1, 2, 2, 3, 3],  # 1 basamaklı HS kodu\n",
    "        'v': [1000, 1500, 2000, 2500, 3000, 3500]  # Trade value\n",
    "    })\n",
    "    return trade_data\n",
    "\n",
    "# Dış ticaret verisini çek\n",
    "trade_data = get_trade_data()\n",
    "\n",
    "# 1 basamaklı HS kodlarına göre gruplama ve toplam değer hesaplama\n",
    "trade_grouping_by_year = trade_data.groupby(['t', 'k']).agg({'v': 'sum'}).reset_index()\n",
    "trade_grouping_by_year.columns = ['Yıl', '1 Basamaklı HS Kodu', 'Toplam Değer (Value)']\n",
    "\n",
    "# Her yıl için toplam dış ticaret değerini hesapla\n",
    "total_trade_by_year = trade_grouping_by_year.groupby('Yıl')['Toplam Değer (Value)'].sum().reset_index(name='Yıl Toplam Değer')\n",
    "\n",
    "# Yıl bazında oranları hesapla\n",
    "trade_grouping_by_year = trade_grouping_by_year.merge(total_trade_by_year, on='Yıl')\n",
    "trade_grouping_by_year['Oran (%)'] = (trade_grouping_by_year['Toplam Değer (Value)'] / trade_grouping_by_year['Yıl Toplam Değer']) * 100\n",
    "\n",
    "# Sonuçları Excel dosyasına kaydet\n",
    "output_file_path = 'dis_ticaret_oranlari.xlsx'\n",
    "trade_grouping_by_year.to_excel(output_file_path, index=False)\n",
    "\n",
    "print(f\"Dosya başarıyla kaydedildi: {output_file_path}\")\n"
   ]
  }
 ],
 "metadata": {
  "kernelspec": {
   "display_name": "Python 3",
   "language": "python",
   "name": "python3"
  },
  "language_info": {
   "codemirror_mode": {
    "name": "ipython",
    "version": 3
   },
   "file_extension": ".py",
   "mimetype": "text/x-python",
   "name": "python",
   "nbconvert_exporter": "python",
   "pygments_lexer": "ipython3",
   "version": "3.11.9"
  }
 },
 "nbformat": 4,
 "nbformat_minor": 2
}
