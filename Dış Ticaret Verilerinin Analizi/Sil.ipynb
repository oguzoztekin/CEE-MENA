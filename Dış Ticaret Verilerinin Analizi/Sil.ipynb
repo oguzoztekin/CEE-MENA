{
 "cells": [
  {
   "cell_type": "code",
   "execution_count": 11,
   "metadata": {},
   "outputs": [],
   "source": []
  },
  {
   "cell_type": "code",
   "execution_count": 15,
   "metadata": {},
   "outputs": [],
   "source": [
    "toplam_oranlar.to_excel(\"Yeni ürünlerin ticaret hacmindeki toplam oranları 2012-2021.xlsx\", index=False)"
   ]
  },
  {
   "cell_type": "code",
   "execution_count": 10,
   "metadata": {},
   "outputs": [
    {
     "ename": "KeyError",
     "evalue": "'Sektör'",
     "output_type": "error",
     "traceback": [
      "\u001b[1;31m---------------------------------------------------------------------------\u001b[0m",
      "\u001b[1;31mKeyError\u001b[0m                                  Traceback (most recent call last)",
      "File \u001b[1;32m~\\AppData\\Local\\Packages\\PythonSoftwareFoundation.Python.3.11_qbz5n2kfra8p0\\LocalCache\\local-packages\\Python311\\site-packages\\pandas\\core\\indexes\\base.py:3805\u001b[0m, in \u001b[0;36mIndex.get_loc\u001b[1;34m(self, key)\u001b[0m\n\u001b[0;32m   3804\u001b[0m \u001b[38;5;28;01mtry\u001b[39;00m:\n\u001b[1;32m-> 3805\u001b[0m     \u001b[38;5;28;01mreturn\u001b[39;00m \u001b[38;5;28;43mself\u001b[39;49m\u001b[38;5;241;43m.\u001b[39;49m\u001b[43m_engine\u001b[49m\u001b[38;5;241;43m.\u001b[39;49m\u001b[43mget_loc\u001b[49m\u001b[43m(\u001b[49m\u001b[43mcasted_key\u001b[49m\u001b[43m)\u001b[49m\n\u001b[0;32m   3806\u001b[0m \u001b[38;5;28;01mexcept\u001b[39;00m \u001b[38;5;167;01mKeyError\u001b[39;00m \u001b[38;5;28;01mas\u001b[39;00m err:\n",
      "File \u001b[1;32mindex.pyx:167\u001b[0m, in \u001b[0;36mpandas._libs.index.IndexEngine.get_loc\u001b[1;34m()\u001b[0m\n",
      "File \u001b[1;32mindex.pyx:196\u001b[0m, in \u001b[0;36mpandas._libs.index.IndexEngine.get_loc\u001b[1;34m()\u001b[0m\n",
      "File \u001b[1;32mpandas\\\\_libs\\\\hashtable_class_helper.pxi:7081\u001b[0m, in \u001b[0;36mpandas._libs.hashtable.PyObjectHashTable.get_item\u001b[1;34m()\u001b[0m\n",
      "File \u001b[1;32mpandas\\\\_libs\\\\hashtable_class_helper.pxi:7089\u001b[0m, in \u001b[0;36mpandas._libs.hashtable.PyObjectHashTable.get_item\u001b[1;34m()\u001b[0m\n",
      "\u001b[1;31mKeyError\u001b[0m: 'Sektör'",
      "\nThe above exception was the direct cause of the following exception:\n",
      "\u001b[1;31mKeyError\u001b[0m                                  Traceback (most recent call last)",
      "Cell \u001b[1;32mIn[10], line 40\u001b[0m\n\u001b[0;32m     38\u001b[0m \u001b[38;5;66;03m# 2012-2016 için new_products_2012_df, 2017-2021 için new_products_2017_df kullanılıyor\u001b[39;00m\n\u001b[0;32m     39\u001b[0m \u001b[38;5;28;01mif\u001b[39;00m year \u001b[38;5;241m<\u001b[39m\u001b[38;5;241m=\u001b[39m \u001b[38;5;241m2016\u001b[39m:\n\u001b[1;32m---> 40\u001b[0m     \u001b[38;5;28;01mfor\u001b[39;00m sector \u001b[38;5;129;01min\u001b[39;00m \u001b[43mnew_products_2012_df\u001b[49m\u001b[43m[\u001b[49m\u001b[38;5;124;43m'\u001b[39;49m\u001b[38;5;124;43mSektör\u001b[39;49m\u001b[38;5;124;43m'\u001b[39;49m\u001b[43m]\u001b[49m\u001b[38;5;241m.\u001b[39munique():\n\u001b[0;32m     41\u001b[0m         yeni_urunler_ticaret_hacmi \u001b[38;5;241m=\u001b[39m df[df[\u001b[38;5;124m'\u001b[39m\u001b[38;5;124mk\u001b[39m\u001b[38;5;124m'\u001b[39m]\u001b[38;5;241m.\u001b[39misin(new_products_2012_df[new_products_2012_df[\u001b[38;5;124m'\u001b[39m\u001b[38;5;124mSektör\u001b[39m\u001b[38;5;124m'\u001b[39m] \u001b[38;5;241m==\u001b[39m sector][\u001b[38;5;124m'\u001b[39m\u001b[38;5;124m6 Basamaklı HS Kodu\u001b[39m\u001b[38;5;124m'\u001b[39m])][\u001b[38;5;124m'\u001b[39m\u001b[38;5;124mv\u001b[39m\u001b[38;5;124m'\u001b[39m]\u001b[38;5;241m.\u001b[39msum()\n\u001b[0;32m     42\u001b[0m         yeni_urunler_orani \u001b[38;5;241m=\u001b[39m (yeni_urunler_ticaret_hacmi \u001b[38;5;241m/\u001b[39m toplam_ticaret_hacmi) \u001b[38;5;241m*\u001b[39m \u001b[38;5;241m100\u001b[39m\n",
      "File \u001b[1;32m~\\AppData\\Local\\Packages\\PythonSoftwareFoundation.Python.3.11_qbz5n2kfra8p0\\LocalCache\\local-packages\\Python311\\site-packages\\pandas\\core\\frame.py:4102\u001b[0m, in \u001b[0;36mDataFrame.__getitem__\u001b[1;34m(self, key)\u001b[0m\n\u001b[0;32m   4100\u001b[0m \u001b[38;5;28;01mif\u001b[39;00m \u001b[38;5;28mself\u001b[39m\u001b[38;5;241m.\u001b[39mcolumns\u001b[38;5;241m.\u001b[39mnlevels \u001b[38;5;241m>\u001b[39m \u001b[38;5;241m1\u001b[39m:\n\u001b[0;32m   4101\u001b[0m     \u001b[38;5;28;01mreturn\u001b[39;00m \u001b[38;5;28mself\u001b[39m\u001b[38;5;241m.\u001b[39m_getitem_multilevel(key)\n\u001b[1;32m-> 4102\u001b[0m indexer \u001b[38;5;241m=\u001b[39m \u001b[38;5;28;43mself\u001b[39;49m\u001b[38;5;241;43m.\u001b[39;49m\u001b[43mcolumns\u001b[49m\u001b[38;5;241;43m.\u001b[39;49m\u001b[43mget_loc\u001b[49m\u001b[43m(\u001b[49m\u001b[43mkey\u001b[49m\u001b[43m)\u001b[49m\n\u001b[0;32m   4103\u001b[0m \u001b[38;5;28;01mif\u001b[39;00m is_integer(indexer):\n\u001b[0;32m   4104\u001b[0m     indexer \u001b[38;5;241m=\u001b[39m [indexer]\n",
      "File \u001b[1;32m~\\AppData\\Local\\Packages\\PythonSoftwareFoundation.Python.3.11_qbz5n2kfra8p0\\LocalCache\\local-packages\\Python311\\site-packages\\pandas\\core\\indexes\\base.py:3812\u001b[0m, in \u001b[0;36mIndex.get_loc\u001b[1;34m(self, key)\u001b[0m\n\u001b[0;32m   3807\u001b[0m     \u001b[38;5;28;01mif\u001b[39;00m \u001b[38;5;28misinstance\u001b[39m(casted_key, \u001b[38;5;28mslice\u001b[39m) \u001b[38;5;129;01mor\u001b[39;00m (\n\u001b[0;32m   3808\u001b[0m         \u001b[38;5;28misinstance\u001b[39m(casted_key, abc\u001b[38;5;241m.\u001b[39mIterable)\n\u001b[0;32m   3809\u001b[0m         \u001b[38;5;129;01mand\u001b[39;00m \u001b[38;5;28many\u001b[39m(\u001b[38;5;28misinstance\u001b[39m(x, \u001b[38;5;28mslice\u001b[39m) \u001b[38;5;28;01mfor\u001b[39;00m x \u001b[38;5;129;01min\u001b[39;00m casted_key)\n\u001b[0;32m   3810\u001b[0m     ):\n\u001b[0;32m   3811\u001b[0m         \u001b[38;5;28;01mraise\u001b[39;00m InvalidIndexError(key)\n\u001b[1;32m-> 3812\u001b[0m     \u001b[38;5;28;01mraise\u001b[39;00m \u001b[38;5;167;01mKeyError\u001b[39;00m(key) \u001b[38;5;28;01mfrom\u001b[39;00m \u001b[38;5;21;01merr\u001b[39;00m\n\u001b[0;32m   3813\u001b[0m \u001b[38;5;28;01mexcept\u001b[39;00m \u001b[38;5;167;01mTypeError\u001b[39;00m:\n\u001b[0;32m   3814\u001b[0m     \u001b[38;5;66;03m# If we have a listlike key, _check_indexing_error will raise\u001b[39;00m\n\u001b[0;32m   3815\u001b[0m     \u001b[38;5;66;03m#  InvalidIndexError. Otherwise we fall through and re-raise\u001b[39;00m\n\u001b[0;32m   3816\u001b[0m     \u001b[38;5;66;03m#  the TypeError.\u001b[39;00m\n\u001b[0;32m   3817\u001b[0m     \u001b[38;5;28mself\u001b[39m\u001b[38;5;241m.\u001b[39m_check_indexing_error(key)\n",
      "\u001b[1;31mKeyError\u001b[0m: 'Sektör'"
     ]
    }
   ],
   "source": [
    "import pandas as pd\n",
    "import os\n",
    "\n",
    "# Yıllar ve ilgili HS sürümleri \n",
    "yillar = list(range(2012, 2022))\n",
    "hs_versiyonlari = {year: 'HS12' if year <= 2016 else 'HS17' for year in yillar}\n",
    "\n",
    "# Dosya yolu formatı \n",
    "dosya_yolu_format = r\"C:\\Users\\oguzo\\Desktop\\BACI\\BACI_{hs_version}_V202401\\BACI_{hs_version}_Y{year}_V202401.csv\"\n",
    "\n",
    "# Yeni ürünlerin bulunduğu Excel dosyasını yükle\n",
    "new_products_df = pd.read_excel('2012, 2017 ve 2022\\'deki yeni ürünlerin detaylı ve genel sektörleri.xlsx')\n",
    "new_products_df['Yıl'] = new_products_df['Yıl'].ffill()\n",
    "\n",
    "# 2012 ve 2017'ye ait yeni ürünleri ve sektörleri ayır\n",
    "new_products_2012_df = new_products_df[new_products_df['Yıl'] == 2012]\n",
    "new_products_2017_df = new_products_df[new_products_df['Yıl'] == 2017]\n",
    "\n",
    "# Sektör bazında sonuçları tutmak için bir liste\n",
    "toplam_sektor_oranlari_list = []\n",
    "\n",
    "# Her yıl ve her sektör için döngü\n",
    "for year in yillar:\n",
    "    hs_version = hs_versiyonlari[year] \n",
    "    dosya_yolu = dosya_yolu_format.format(hs_version=hs_version, year=year)  \n",
    "    \n",
    "    # Dosyanın var olup olmadığını kontrol et\n",
    "    if not os.path.exists(dosya_yolu):\n",
    "        print(f\"{dosya_yolu} bulunamadı, bu yıl atlanıyor.\")\n",
    "        continue\n",
    "    \n",
    "    # Veriyi yükle\n",
    "    df = pd.read_csv(dosya_yolu)\n",
    "    \n",
    "    # Toplam ticaret hacmini hesapla\n",
    "    toplam_ticaret_hacmi = df['v'].sum()\n",
    "\n",
    "    # 2012-2016 için new_products_2012_df, 2017-2021 için new_products_2017_df kullanılıyor\n",
    "    if year <= 2016:\n",
    "        for sector in new_products_2012_df['Sektör'].unique():\n",
    "            yeni_urunler_ticaret_hacmi = df[df['k'].isin(new_products_2012_df[new_products_2012_df['Sektör'] == sector]['6 Basamaklı HS Kodu'])]['v'].sum()\n",
    "            yeni_urunler_orani = (yeni_urunler_ticaret_hacmi / toplam_ticaret_hacmi) * 100\n",
    "            toplam_sektor_oranlari_list.append({'Yıl': year, 'Sektör': sector, 'Yeni Ürünlerin Oranı (%)': yeni_urunler_orani})\n",
    "    else:\n",
    "        for sector in new_products_2017_df['Sektör'].unique():\n",
    "            yeni_urunler_ticaret_hacmi = df[df['k'].isin(new_products_2017_df[new_products_2017_df['Sektör'] == sector]['6 Basamaklı HS Kodu'])]['v'].sum()\n",
    "            yeni_urunler_orani = (yeni_urunler_ticaret_hacmi / toplam_ticaret_hacmi) * 100\n",
    "            toplam_sektor_oranlari_list.append({'Yıl': year, 'Sektör': sector, 'Yeni Ürünlerin Oranı (%)': yeni_urunler_orani})\n",
    "\n",
    "# Sonuçları DataFrame'e çevir\n",
    "toplam_sektor_oranlari = pd.DataFrame(toplam_sektor_oranlari_list)\n",
    "\n",
    "# Sonuçları göster\n",
    "print(toplam_sektor_oranlari)\n",
    "\n",
    "# Sonuçları Excel'e kaydetmek isterseniz\n",
    "#toplam_sektor_oranlari.to_excel('Sektor_Bazinda_Yeni_Urun_Oranlari.xlsx')\n"
   ]
  },
  {
   "cell_type": "code",
   "execution_count": null,
   "metadata": {},
   "outputs": [],
   "source": []
  }
 ],
 "metadata": {
  "kernelspec": {
   "display_name": "Python 3",
   "language": "python",
   "name": "python3"
  },
  "language_info": {
   "codemirror_mode": {
    "name": "ipython",
    "version": 3
   },
   "file_extension": ".py",
   "mimetype": "text/x-python",
   "name": "python",
   "nbconvert_exporter": "python",
   "pygments_lexer": "ipython3",
   "version": "3.11.9"
  }
 },
 "nbformat": 4,
 "nbformat_minor": 2
}
